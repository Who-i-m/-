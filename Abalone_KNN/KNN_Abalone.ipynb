{
 "cells": [
  {
   "cell_type": "markdown",
   "id": "05934bf9",
   "metadata": {},
   "source": [
    "# 导入需要的库"
   ]
  },
  {
   "cell_type": "code",
   "execution_count": 1,
   "id": "e7f60a1c",
   "metadata": {},
   "outputs": [],
   "source": [
    "import pandas as pd\n",
    "from sklearn.model_selection import train_test_split\n",
    "from sklearn.preprocessing import MinMaxScaler\n",
    "import numpy as np\n",
    "import matplotlib.pyplot as plt"
   ]
  },
  {
   "cell_type": "code",
   "execution_count": 2,
   "id": "bf582b7a",
   "metadata": {},
   "outputs": [],
   "source": [
    "from knnClassify import*"
   ]
  },
  {
   "cell_type": "markdown",
   "id": "9ebbd169",
   "metadata": {},
   "source": [
    "# 引入数据集"
   ]
  },
  {
   "cell_type": "code",
   "execution_count": 3,
   "id": "a51b94e9",
   "metadata": {},
   "outputs": [],
   "source": [
    "abalone = pd.read_csv('abalone.data', sep = ',')"
   ]
  },
  {
   "cell_type": "markdown",
   "id": "dd1b1baf",
   "metadata": {},
   "source": [
    "# 查abalone.names之后，得到所有的标签：Sex，Length，Diameter，Height，Whole weight，Shucked weight，Viscera weight，Shell weight，Rings"
   ]
  },
  {
   "cell_type": "code",
   "execution_count": 4,
   "id": "97336ce1",
   "metadata": {},
   "outputs": [],
   "source": [
    "abalone_data = pd.read_csv('abalone.data', names = [\"Sex\", \"Length\", \"Diameter\", \"Height\", \"Whole weight\", \"Shucked weight\", \"Viscera weight\", \"Shell weight\", \"Rings\"], sep = ',')"
   ]
  },
  {
   "cell_type": "code",
   "execution_count": 5,
   "id": "3ff3d154",
   "metadata": {
    "scrolled": false
   },
   "outputs": [
    {
     "data": {
      "text/plain": [
       "array([['M', 0.455, 0.365, ..., 0.101, 0.15, 15],\n",
       "       ['M', 0.35, 0.265, ..., 0.0485, 0.07, 7],\n",
       "       ['F', 0.53, 0.42, ..., 0.1415, 0.21, 9],\n",
       "       ...,\n",
       "       ['M', 0.6, 0.475, ..., 0.2875, 0.308, 9],\n",
       "       ['F', 0.625, 0.485, ..., 0.261, 0.296, 10],\n",
       "       ['M', 0.71, 0.555, ..., 0.3765, 0.495, 12]], dtype=object)"
      ]
     },
     "execution_count": 5,
     "metadata": {},
     "output_type": "execute_result"
    }
   ],
   "source": [
    "abalone_data = np.array(abalone_data)\n",
    "abalone_data"
   ]
  },
  {
   "cell_type": "code",
   "execution_count": 6,
   "id": "051affc9",
   "metadata": {},
   "outputs": [],
   "source": [
    "y = abalone_data[:,0]\n",
    "Y = abalone_data[:,8]\n",
    "x = abalone_data[:,1:8]"
   ]
  },
  {
   "cell_type": "markdown",
   "id": "cb5d78ea",
   "metadata": {},
   "source": [
    "### y = abalone_data['Rings']\n",
    "### Y = abalone_data['Sex']\n",
    "### x = abalone_data[['Length', 'Diameter', 'Height', 'Whole weight', 'Shucked weight', 'Viscera weight', 'Shell weight']]"
   ]
  },
  {
   "cell_type": "code",
   "execution_count": 7,
   "id": "5e37903e",
   "metadata": {
    "scrolled": false
   },
   "outputs": [
    {
     "data": {
      "text/plain": [
       "array([[0.455, 0.365, 0.095, ..., 0.2245, 0.101, 0.15],\n",
       "       [0.35, 0.265, 0.09, ..., 0.0995, 0.0485, 0.07],\n",
       "       [0.53, 0.42, 0.135, ..., 0.2565, 0.1415, 0.21],\n",
       "       ...,\n",
       "       [0.6, 0.475, 0.205, ..., 0.5255, 0.2875, 0.308],\n",
       "       [0.625, 0.485, 0.15, ..., 0.531, 0.261, 0.296],\n",
       "       [0.71, 0.555, 0.195, ..., 0.9455, 0.3765, 0.495]], dtype=object)"
      ]
     },
     "execution_count": 7,
     "metadata": {},
     "output_type": "execute_result"
    }
   ],
   "source": [
    "x"
   ]
  },
  {
   "cell_type": "code",
   "execution_count": 8,
   "id": "1ee036f2",
   "metadata": {},
   "outputs": [],
   "source": [
    "# 创建一个最值归一化对象\n",
    "scaler = MinMaxScaler()\n",
    "# 归一化之后，进行赋值\n",
    "x = scaler.fit_transform(x)"
   ]
  },
  {
   "cell_type": "code",
   "execution_count": 9,
   "id": "c851901f",
   "metadata": {},
   "outputs": [
    {
     "data": {
      "text/plain": [
       "array([[0.51351351, 0.5210084 , 0.0840708 , ..., 0.15030262, 0.1323239 ,\n",
       "        0.14798206],\n",
       "       [0.37162162, 0.35294118, 0.07964602, ..., 0.06624075, 0.06319947,\n",
       "        0.06826109],\n",
       "       [0.61486486, 0.61344538, 0.11946903, ..., 0.17182246, 0.18564845,\n",
       "        0.2077728 ],\n",
       "       ...,\n",
       "       [0.70945946, 0.70588235, 0.18141593, ..., 0.3527236 , 0.37788018,\n",
       "        0.30543099],\n",
       "       [0.74324324, 0.72268908, 0.13274336, ..., 0.35642233, 0.34298881,\n",
       "        0.29347285],\n",
       "       [0.85810811, 0.84033613, 0.17256637, ..., 0.63517149, 0.49506254,\n",
       "        0.49177877]])"
      ]
     },
     "execution_count": 9,
     "metadata": {},
     "output_type": "execute_result"
    }
   ],
   "source": [
    "x"
   ]
  },
  {
   "cell_type": "code",
   "execution_count": 10,
   "id": "8b3e4b29",
   "metadata": {
    "scrolled": true
   },
   "outputs": [
    {
     "data": {
      "text/plain": [
       "array(['M', 'M', 'F', ..., 'M', 'F', 'M'], dtype=object)"
      ]
     },
     "execution_count": 10,
     "metadata": {},
     "output_type": "execute_result"
    }
   ],
   "source": [
    "y"
   ]
  },
  {
   "cell_type": "code",
   "execution_count": 11,
   "id": "365731de",
   "metadata": {},
   "outputs": [
    {
     "data": {
      "text/plain": [
       "{'F', 'I', 'M'}"
      ]
     },
     "execution_count": 11,
     "metadata": {},
     "output_type": "execute_result"
    }
   ],
   "source": [
    "set(y)"
   ]
  },
  {
   "cell_type": "code",
   "execution_count": 12,
   "id": "e1796bae",
   "metadata": {},
   "outputs": [
    {
     "data": {
      "text/plain": [
       "array([15, 7, 9, ..., 9, 10, 12], dtype=object)"
      ]
     },
     "execution_count": 12,
     "metadata": {},
     "output_type": "execute_result"
    }
   ],
   "source": [
    "Y"
   ]
  },
  {
   "cell_type": "code",
   "execution_count": 13,
   "id": "9a627610",
   "metadata": {
    "scrolled": true
   },
   "outputs": [
    {
     "data": {
      "text/plain": [
       "{1,\n",
       " 2,\n",
       " 3,\n",
       " 4,\n",
       " 5,\n",
       " 6,\n",
       " 7,\n",
       " 8,\n",
       " 9,\n",
       " 10,\n",
       " 11,\n",
       " 12,\n",
       " 13,\n",
       " 14,\n",
       " 15,\n",
       " 16,\n",
       " 17,\n",
       " 18,\n",
       " 19,\n",
       " 20,\n",
       " 21,\n",
       " 22,\n",
       " 23,\n",
       " 24,\n",
       " 25,\n",
       " 26,\n",
       " 27,\n",
       " 29}"
      ]
     },
     "execution_count": 13,
     "metadata": {},
     "output_type": "execute_result"
    }
   ],
   "source": [
    "set(Y)"
   ]
  },
  {
   "cell_type": "markdown",
   "id": "1676d3a3",
   "metadata": {},
   "source": [
    "#### 怎么这么多个指标？"
   ]
  },
  {
   "cell_type": "markdown",
   "id": "1d1997c4",
   "metadata": {},
   "source": [
    "### 成效不太好，思考了一下是rings中共有29个分类，然后样本量相较太小了，分类界限太模糊，容易导致分类错误"
   ]
  },
  {
   "cell_type": "markdown",
   "id": "11dfe90e",
   "metadata": {},
   "source": [
    "#### 对rings这个子集数据做了一个小分类，减少分类，提高预测准确度"
   ]
  },
  {
   "cell_type": "code",
   "execution_count": 14,
   "id": "56824d6f",
   "metadata": {},
   "outputs": [],
   "source": [
    "Y_change = [int(a/5) for a in Y]"
   ]
  },
  {
   "cell_type": "code",
   "execution_count": 15,
   "id": "6b5dc76d",
   "metadata": {},
   "outputs": [],
   "source": [
    "Y_change = np.array(Y_change)"
   ]
  },
  {
   "cell_type": "code",
   "execution_count": 16,
   "id": "f5209291",
   "metadata": {},
   "outputs": [
    {
     "data": {
      "text/plain": [
       "{0, 1, 2, 3, 4, 5}"
      ]
     },
     "execution_count": 16,
     "metadata": {},
     "output_type": "execute_result"
    }
   ],
   "source": [
    "set(Y_change)"
   ]
  },
  {
   "cell_type": "code",
   "execution_count": 17,
   "id": "898c930e",
   "metadata": {},
   "outputs": [
    {
     "data": {
      "text/plain": [
       "74"
      ]
     },
     "execution_count": 17,
     "metadata": {},
     "output_type": "execute_result"
    }
   ],
   "source": [
    "np.sum(Y_change==0)"
   ]
  },
  {
   "cell_type": "code",
   "execution_count": 18,
   "id": "ed2999ab",
   "metadata": {},
   "outputs": [
    {
     "data": {
      "text/plain": [
       "2022"
      ]
     },
     "execution_count": 18,
     "metadata": {},
     "output_type": "execute_result"
    }
   ],
   "source": [
    "np.sum(Y_change==1)"
   ]
  },
  {
   "cell_type": "code",
   "execution_count": 19,
   "id": "0db4ec51",
   "metadata": {},
   "outputs": [
    {
     "data": {
      "text/plain": [
       "1717"
      ]
     },
     "execution_count": 19,
     "metadata": {},
     "output_type": "execute_result"
    }
   ],
   "source": [
    "np.sum(Y_change==2)"
   ]
  },
  {
   "cell_type": "code",
   "execution_count": 20,
   "id": "a60520e3",
   "metadata": {},
   "outputs": [],
   "source": [
    "#将未做处理和做好处理的两列矩阵合并（方便后边使用）\n",
    "Y = np.c_[Y,Y_change]"
   ]
  },
  {
   "cell_type": "markdown",
   "id": "7de21c34",
   "metadata": {},
   "source": [
    "# 对数据集进行划分：这里划分20%为预测集、80%为训练集,随机数种子设置为1"
   ]
  },
  {
   "cell_type": "markdown",
   "id": "7868a943",
   "metadata": {},
   "source": [
    "## 1、对性别Sex进行训练并预测"
   ]
  },
  {
   "cell_type": "code",
   "execution_count": 21,
   "id": "61437b84",
   "metadata": {},
   "outputs": [],
   "source": [
    "x_train, x_test, y_train, y_test = train_test_split(x, y, test_size = 0.2, random_state = 1)"
   ]
  },
  {
   "cell_type": "code",
   "execution_count": 22,
   "id": "6f363ef2",
   "metadata": {},
   "outputs": [
    {
     "data": {
      "text/plain": [
       "0.5550239234449761"
      ]
     },
     "execution_count": 22,
     "metadata": {},
     "output_type": "execute_result"
    }
   ],
   "source": [
    "test = knnClassify(155)\n",
    "test.fit(x_train, y_train)\n",
    "y_predict = test.predict(x_test)\n",
    "test.score(y_test, y_predict)"
   ]
  },
  {
   "cell_type": "markdown",
   "id": "972138fb",
   "metadata": {},
   "source": [
    "## 2、对年龄rings进行训练并预测"
   ]
  },
  {
   "cell_type": "code",
   "execution_count": 23,
   "id": "22664b82",
   "metadata": {},
   "outputs": [],
   "source": [
    "X_train, X_test, Y_train, Y_test = train_test_split(x, Y, test_size = 0.2, random_state = 1)"
   ]
  },
  {
   "cell_type": "code",
   "execution_count": 24,
   "id": "d1bffb2c",
   "metadata": {
    "scrolled": false
   },
   "outputs": [
    {
     "data": {
      "text/plain": [
       "0.6925837320574163"
      ]
     },
     "execution_count": 24,
     "metadata": {},
     "output_type": "execute_result"
    }
   ],
   "source": [
    "test = knnClassify(25)\n",
    "test.fit(X_train, Y_train[:,1])\n",
    "Y_predict = test.predict(X_test)\n",
    "test.score(Y_test[:,1], Y_predict)"
   ]
  },
  {
   "cell_type": "markdown",
   "id": "ce2b5212",
   "metadata": {},
   "source": [
    "# 将预测结果可视化"
   ]
  },
  {
   "cell_type": "markdown",
   "id": "c96a7a09",
   "metadata": {},
   "source": [
    "## 1.对SEX预测结果可视化"
   ]
  },
  {
   "cell_type": "code",
   "execution_count": 25,
   "id": "806c8c42",
   "metadata": {},
   "outputs": [
    {
     "data": {
      "text/plain": [
       "<Figure size 720x720 with 0 Axes>"
      ]
     },
     "execution_count": 25,
     "metadata": {},
     "output_type": "execute_result"
    },
    {
     "data": {
      "text/plain": [
       "<Figure size 720x720 with 0 Axes>"
      ]
     },
     "metadata": {},
     "output_type": "display_data"
    }
   ],
   "source": [
    "# 设置画布大小\n",
    "plt.figure(figsize = (10, 10))"
   ]
  },
  {
   "cell_type": "code",
   "execution_count": 26,
   "id": "4fd13bf1",
   "metadata": {
    "scrolled": false
   },
   "outputs": [
    {
     "data": {
      "image/png": "[encoded data removed]",
      "text/plain": [
       "<Figure size 432x288 with 1 Axes>"
      ]
     },
     "metadata": {
      "needs_background": "light"
     },
     "output_type": "display_data"
    }
   ],
   "source": [
    "# 随机选取a和b作为坐标轴\n",
    "#对Sex三个属性上色\n",
    "plt.scatter(x = x_test[:,1], y = y_test, color = 'Green', label = 'ALL')\n",
    "plt.xlabel('Length')\n",
    "plt.ylabel('Sex')\n",
    "plt.title(\"Original data on Abalone\")\n",
    "plt.legend()\n",
    "plt.show()"
   ]
  },
  {
   "cell_type": "markdown",
   "id": "4a1af224",
   "metadata": {},
   "source": [
    "#### 图中展示的是还未预测的所有数据点集"
   ]
  },
  {
   "cell_type": "code",
   "execution_count": 27,
   "id": "95ee9223",
   "metadata": {
    "scrolled": true
   },
   "outputs": [
    {
     "data": {
      "image/png": "[encoded data removed]",
      "text/plain": [
       "<Figure size 432x288 with 1 Axes>"
      ]
     },
     "metadata": {
      "needs_background": "light"
     },
     "output_type": "display_data"
    }
   ],
   "source": [
    "x_mPredict = []\n",
    "y_mPredict = []\n",
    "x_fPredict = []\n",
    "y_fPredict = []\n",
    "x_iPredict = []\n",
    "y_iPredict = []\n",
    "for i in range(0, len(x_test)):\n",
    "    if(y_predict[i] == 'M'):\n",
    "        x_mPredict.append(x_test[i])\n",
    "        y_mPredict.append(y_test[i])\n",
    "    if(y_predict[i] == 'F'):\n",
    "        x_fPredict.append(x_test[i])\n",
    "        y_fPredict.append(y_test[i])\n",
    "    if(y_predict[i] == 'I'):\n",
    "        x_iPredict.append(x_test[i])\n",
    "        y_iPredict.append(y_test[i])\n",
    "x_mPredict = np.array(x_mPredict)\n",
    "x_fPredict = np.array(x_fPredict)\n",
    "x_iPredict = np.array(x_iPredict)\n",
    "y_mPredict = np.array(y_mPredict)\n",
    "y_fPredict = np.array(y_fPredict)\n",
    "y_iPredict = np.array(y_iPredict)\n",
    "plt.scatter(x = x_mPredict[:,0], y = y_mPredict, color = 'blue', label = 'M')\n",
    "plt.scatter(x = x_fPredict[:,0], y = y_fPredict, color = 'red', label = 'F')\n",
    "plt.scatter(x = x_iPredict[:,0], y = y_iPredict, color = 'green', label = 'I')\n",
    "plt.xlabel('Length')\n",
    "plt.ylabel('Sex')\n",
    "plt.title(\"KNN predict on Abalone_Sex\")\n",
    "plt.legend()\n",
    "plt.show()"
   ]
  },
  {
   "cell_type": "markdown",
   "id": "f5c4e959",
   "metadata": {},
   "source": [
    "#### 图中共有三个预测分类"
   ]
  },
  {
   "cell_type": "code",
   "execution_count": 28,
   "id": "ff56585f",
   "metadata": {},
   "outputs": [
    {
     "data": {
      "image/png": "[encoded data removed]",
      "text/plain": [
       "<Figure size 432x288 with 1 Axes>"
      ]
     },
     "metadata": {
      "needs_background": "light"
     },
     "output_type": "display_data"
    }
   ],
   "source": [
    "x_right = x_test[y_predict == y_test]\n",
    "y_right = y_test[y_predict == y_test]\n",
    "x_wrong = x_test[y_predict != y_test]\n",
    "y_wrong = y_test[y_predict != y_test]\n",
    "plt.scatter(x = x_wrong[:,0], y = y_wrong, color = 'blue', label = 'WRONG')\n",
    "plt.scatter(x = x_right[:,0], y = y_right, color = 'red', label = 'RIGHT')\n",
    "plt.xlabel('Length')\n",
    "plt.ylabel('Sex')\n",
    "plt.title(\"Prediction accuracy of KNN predict on Abalone_Sex\")\n",
    "plt.legend()\n",
    "plt.show()"
   ]
  },
  {
   "cell_type": "markdown",
   "id": "1408e290",
   "metadata": {},
   "source": [
    "#### 图中红色表示预测成功"
   ]
  },
  {
   "cell_type": "markdown",
   "id": "7f970a9e",
   "metadata": {},
   "source": [
    "## 2.对Rings进行预测"
   ]
  },
  {
   "cell_type": "code",
   "execution_count": 29,
   "id": "db1ea059",
   "metadata": {},
   "outputs": [
    {
     "data": {
      "text/plain": [
       "<Figure size 7200x7200 with 0 Axes>"
      ]
     },
     "execution_count": 29,
     "metadata": {},
     "output_type": "execute_result"
    },
    {
     "data": {
      "text/plain": [
       "<Figure size 7200x7200 with 0 Axes>"
      ]
     },
     "metadata": {},
     "output_type": "display_data"
    }
   ],
   "source": [
    "# 设置画布大小\n",
    "plt.figure(figsize = (100, 100))"
   ]
  },
  {
   "cell_type": "code",
   "execution_count": 30,
   "id": "a8882d42",
   "metadata": {},
   "outputs": [
    {
     "data": {
      "image/png": "[encoded data removed]",
      "text/plain": [
       "<Figure size 432x288 with 1 Axes>"
      ]
     },
     "metadata": {
      "needs_background": "light"
     },
     "output_type": "display_data"
    }
   ],
   "source": [
    "# 随机选取a和b作为坐标轴\n",
    "#对Sex三个属性上色\n",
    "plt.scatter(x = X_test[:,1], y = Y_test[:,0], color = 'Green', label = 'ALL')\n",
    "plt.xlabel('Length')\n",
    "plt.ylabel('Rings')\n",
    "plt.title(\"Original data on Abalone_Rings\")\n",
    "plt.legend()\n",
    "plt.show()"
   ]
  },
  {
   "cell_type": "markdown",
   "id": "ae6282cc",
   "metadata": {},
   "source": [
    "#### 图中展示的是还未预测的所有数据点集"
   ]
  },
  {
   "cell_type": "code",
   "execution_count": 31,
   "id": "7c2f42d5",
   "metadata": {
    "scrolled": false
   },
   "outputs": [],
   "source": [
    "x_aPredict = []\n",
    "y_aPredict = []\n",
    "x_bPredict = []\n",
    "y_bPredict = []\n",
    "x_cPredict = []\n",
    "y_cPredict = []\n",
    "x_dPredict = []\n",
    "y_dPredict = []\n",
    "x_ePredict = []\n",
    "y_ePredict = []\n",
    "x_fPredict = []\n",
    "y_fPredict = []\n",
    "for i in range(0, len(X_test)):\n",
    "    if(Y_predict[i] == 0):\n",
    "        x_aPredict.append(X_test[i])\n",
    "        y_aPredict.append(Y_test[i][0])\n",
    "    if(Y_predict[i] == 1):\n",
    "        x_bPredict.append(X_test[i])\n",
    "        y_bPredict.append(Y_test[i][0])\n",
    "    if(Y_predict[i] == 2):\n",
    "        x_cPredict.append(X_test[i])\n",
    "        y_cPredict.append(Y_test[i][0])\n",
    "    if(Y_predict[i] == 3):\n",
    "        x_dPredict.append(X_test[i])\n",
    "        y_dPredict.append(Y_test[i][0])\n",
    "    if(Y_predict[i] == 4):\n",
    "        x_ePredict.append(X_test[i])\n",
    "        y_ePredict.append(Y_test[i][0])\n",
    "    if(Y_predict[i] == 5):\n",
    "        x_fPredict.append(X_test[i])\n",
    "        y_fPredict.append(Y_test[i][0])\n",
    "x_aPredict = np.array(x_aPredict)\n",
    "x_bPredict = np.array(x_bPredict)\n",
    "x_cPredict = np.array(x_cPredict)\n",
    "x_dPredict = np.array(x_dPredict)\n",
    "x_ePredict = np.array(x_ePredict)\n",
    "x_fPredict = np.array(x_fPredict)\n",
    "y_aPredict = np.array(y_aPredict)\n",
    "y_bPredict = np.array(y_bPredict)\n",
    "y_cPredict = np.array(y_cPredict)\n",
    "y_dPredict = np.array(y_dPredict)\n",
    "y_ePredict = np.array(y_ePredict)\n",
    "y_fPredict = np.array(y_fPredict)"
   ]
  },
  {
   "cell_type": "code",
   "execution_count": 32,
   "id": "0bd884fa",
   "metadata": {
    "scrolled": true
   },
   "outputs": [
    {
     "data": {
      "image/png": "[encoded data removed]",
      "text/plain": [
       "<Figure size 432x288 with 1 Axes>"
      ]
     },
     "metadata": {
      "needs_background": "light"
     },
     "output_type": "display_data"
    }
   ],
   "source": [
    "plt.scatter(x = x_aPredict[:,0], y = y_aPredict, color = 'blue', label = 'a')\n",
    "plt.scatter(x = x_bPredict[:,0], y = y_bPredict, color = 'red', label = 'b')\n",
    "plt.scatter(x = x_cPredict[:,0], y = y_cPredict, color = 'green', label = 'c')\n",
    "plt.scatter(x = x_dPredict[:,0], y = y_dPredict, color = 'yellow', label = 'd')\n",
    "#plt.scatter(x = x_ePredict[:,0], y = y_ePredict, color = 'cyan', label = 'e')\n",
    "#plt.scatter(x = x_fPredict[:,0], y = y_fPredict, color = 'pink', label = 'f')\n",
    "plt.xlabel('Length')\n",
    "plt.ylabel('Rings')\n",
    "plt.title(\"KNN predict on Abalone_Rings\")\n",
    "plt.legend()\n",
    "plt.show()"
   ]
  },
  {
   "cell_type": "code",
   "execution_count": 33,
   "id": "248f20b7",
   "metadata": {},
   "outputs": [
    {
     "data": {
      "image/png": "[encoded data removed]",
      "text/plain": [
       "<Figure size 432x288 with 1 Axes>"
      ]
     },
     "metadata": {
      "needs_background": "light"
     },
     "output_type": "display_data"
    }
   ],
   "source": [
    "X_right = X_test[Y_predict == Y_test[:,1]]\n",
    "Y_right = Y_test[Y_predict == Y_test[:,1]]\n",
    "X_wrong = X_test[Y_predict != Y_test[:,1]]\n",
    "Y_wrong = Y_test[Y_predict != Y_test[:,1]]\n",
    "plt.scatter(x = X_wrong[:,0], y = Y_wrong[:,0], color = 'blue', label = 'WRONG')\n",
    "plt.scatter(x = X_right[:,0], y = Y_right[:,0], color = 'red', label = 'RIGHT')\n",
    "plt.xlabel('Length')\n",
    "plt.ylabel('Rings')\n",
    "plt.title(\"Prediction accuracy of KNN predict on Abalone_Rings\")\n",
    "plt.legend()\n",
    "plt.show()"
   ]
  }
 ],
 "metadata": {
  "kernelspec": {
   "display_name": "Python 3 (ipykernel)",
   "language": "python",
   "name": "python3"
  },
  "language_info": {
   "codemirror_mode": {
    "name": "ipython",
    "version": 3
   },
   "file_extension": ".py",
   "mimetype": "text/x-python",
   "name": "python",
   "nbconvert_exporter": "python",
   "pygments_lexer": "ipython3",
   "version": "3.9.7"
  }
 },
 "nbformat": 4,
 "nbformat_minor": 5
}
