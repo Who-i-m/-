{
 "cells": [
  {
   "cell_type": "markdown",
   "id": "05934bf9",
   "metadata": {},
   "source": [
    "# 导入需要的库"
   ]
  },
  {
   "cell_type": "code",
   "execution_count": 1,
   "id": "e7f60a1c",
   "metadata": {},
   "outputs": [],
   "source": [
    "import pandas as pd\n",
    "from sklearn.model_selection import train_test_split\n",
    "import numpy as np\n",
    "import matplotlib.pyplot as plt"
   ]
  },
  {
   "cell_type": "code",
   "execution_count": 2,
   "id": "bf582b7a",
   "metadata": {},
   "outputs": [],
   "source": [
    "from knnClassify import*"
   ]
  },
  {
   "cell_type": "markdown",
   "id": "9ebbd169",
   "metadata": {},
   "source": [
    "# 引入数据集"
   ]
  },
  {
   "cell_type": "code",
   "execution_count": 3,
   "id": "a51b94e9",
   "metadata": {},
   "outputs": [],
   "source": [
    "abalone = pd.read_csv('abalone.data', sep = ',')"
   ]
  },
  {
   "cell_type": "markdown",
   "id": "dd1b1baf",
   "metadata": {},
   "source": [
    "# 查abalone.names之后，得到所有的标签：Sex，Length，Diameter，Height，Whole weight，Shucked weight，Viscera weight，Shell weight，Rings"
   ]
  },
  {
   "cell_type": "code",
   "execution_count": 4,
   "id": "97336ce1",
   "metadata": {},
   "outputs": [],
   "source": [
    "abalone_data = pd.read_csv('abalone.data', names = [\"Sex\", \"Length\", \"Diameter\", \"Height\", \"Whole weight\", \"Shucked weight\", \"Viscera weight\", \"Shell weight\", \"Rings\"], sep = ',')"
   ]
  },
  {
   "cell_type": "code",
   "execution_count": 5,
   "id": "3ff3d154",
   "metadata": {
    "scrolled": false
   },
   "outputs": [
    {
     "data": {
      "text/plain": [
       "array([['M', 0.455, 0.365, ..., 0.101, 0.15, 15],\n",
       "       ['M', 0.35, 0.265, ..., 0.0485, 0.07, 7],\n",
       "       ['F', 0.53, 0.42, ..., 0.1415, 0.21, 9],\n",
       "       ...,\n",
       "       ['M', 0.6, 0.475, ..., 0.2875, 0.308, 9],\n",
       "       ['F', 0.625, 0.485, ..., 0.261, 0.296, 10],\n",
       "       ['M', 0.71, 0.555, ..., 0.3765, 0.495, 12]], dtype=object)"
      ]
     },
     "execution_count": 5,
     "metadata": {},
     "output_type": "execute_result"
    }
   ],
   "source": [
    "abalone_data = np.array(abalone_data)\n",
    "abalone_data"
   ]
  },
  {
   "cell_type": "code",
   "execution_count": 6,
   "id": "051affc9",
   "metadata": {},
   "outputs": [],
   "source": [
    "y = abalone_data[:,0]\n",
    "Y = abalone_data[:,8]\n",
    "x = abalone_data[:,1:8]"
   ]
  },
  {
   "cell_type": "markdown",
   "id": "cb5d78ea",
   "metadata": {},
   "source": [
    "### y = abalone_data['Rings']\n",
    "### Y = abalone_data['Sex']\n",
    "### x = abalone_data[['Length', 'Diameter', 'Height', 'Whole weight', 'Shucked weight', 'Viscera weight', 'Shell weight']]"
   ]
  },
  {
   "cell_type": "code",
   "execution_count": 7,
   "id": "5e37903e",
   "metadata": {
    "scrolled": true
   },
   "outputs": [
    {
     "data": {
      "text/plain": [
       "array([[0.455, 0.365, 0.095, ..., 0.2245, 0.101, 0.15],\n",
       "       [0.35, 0.265, 0.09, ..., 0.0995, 0.0485, 0.07],\n",
       "       [0.53, 0.42, 0.135, ..., 0.2565, 0.1415, 0.21],\n",
       "       ...,\n",
       "       [0.6, 0.475, 0.205, ..., 0.5255, 0.2875, 0.308],\n",
       "       [0.625, 0.485, 0.15, ..., 0.531, 0.261, 0.296],\n",
       "       [0.71, 0.555, 0.195, ..., 0.9455, 0.3765, 0.495]], dtype=object)"
      ]
     },
     "execution_count": 7,
     "metadata": {},
     "output_type": "execute_result"
    }
   ],
   "source": [
    "x"
   ]
  },
  {
   "cell_type": "code",
   "execution_count": 8,
   "id": "8b3e4b29",
   "metadata": {
    "scrolled": true
   },
   "outputs": [
    {
     "data": {
      "text/plain": [
       "array(['M', 'M', 'F', ..., 'M', 'F', 'M'], dtype=object)"
      ]
     },
     "execution_count": 8,
     "metadata": {},
     "output_type": "execute_result"
    }
   ],
   "source": [
    "y"
   ]
  },
  {
   "cell_type": "code",
   "execution_count": 9,
   "id": "365731de",
   "metadata": {},
   "outputs": [
    {
     "data": {
      "text/plain": [
       "{'F', 'I', 'M'}"
      ]
     },
     "execution_count": 9,
     "metadata": {},
     "output_type": "execute_result"
    }
   ],
   "source": [
    "set(y)"
   ]
  },
  {
   "cell_type": "code",
   "execution_count": 10,
   "id": "e1796bae",
   "metadata": {},
   "outputs": [
    {
     "data": {
      "text/plain": [
       "array([15, 7, 9, ..., 9, 10, 12], dtype=object)"
      ]
     },
     "execution_count": 10,
     "metadata": {},
     "output_type": "execute_result"
    }
   ],
   "source": [
    "Y"
   ]
  },
  {
   "cell_type": "code",
   "execution_count": 11,
   "id": "9a627610",
   "metadata": {
    "scrolled": true
   },
   "outputs": [
    {
     "data": {
      "text/plain": [
       "{1,\n",
       " 2,\n",
       " 3,\n",
       " 4,\n",
       " 5,\n",
       " 6,\n",
       " 7,\n",
       " 8,\n",
       " 9,\n",
       " 10,\n",
       " 11,\n",
       " 12,\n",
       " 13,\n",
       " 14,\n",
       " 15,\n",
       " 16,\n",
       " 17,\n",
       " 18,\n",
       " 19,\n",
       " 20,\n",
       " 21,\n",
       " 22,\n",
       " 23,\n",
       " 24,\n",
       " 25,\n",
       " 26,\n",
       " 27,\n",
       " 29}"
      ]
     },
     "execution_count": 11,
     "metadata": {},
     "output_type": "execute_result"
    }
   ],
   "source": [
    "set(Y)"
   ]
  },
  {
   "cell_type": "markdown",
   "id": "1676d3a3",
   "metadata": {},
   "source": [
    "#### 怎么这么多个指标？"
   ]
  },
  {
   "cell_type": "markdown",
   "id": "1d1997c4",
   "metadata": {},
   "source": [
    "### 成效不太好，思考了一下是rings中共有29个分类，然后样本量相较太小了，分类界限太模糊，容易导致分类错误"
   ]
  },
  {
   "cell_type": "markdown",
   "id": "11dfe90e",
   "metadata": {},
   "source": [
    "#### 对rings这个子集数据做了一个小分类，减少分类，提高预测准确度"
   ]
  },
  {
   "cell_type": "code",
   "execution_count": 12,
   "id": "56824d6f",
   "metadata": {},
   "outputs": [],
   "source": [
    "Y = [str(int(a/10)) for a in Y]"
   ]
  },
  {
   "cell_type": "code",
   "execution_count": 13,
   "id": "6b5dc76d",
   "metadata": {},
   "outputs": [],
   "source": [
    "Y = np.array(Y)"
   ]
  },
  {
   "cell_type": "code",
   "execution_count": 14,
   "id": "f5209291",
   "metadata": {},
   "outputs": [
    {
     "data": {
      "text/plain": [
       "{'0', '1', '2'}"
      ]
     },
     "execution_count": 14,
     "metadata": {},
     "output_type": "execute_result"
    }
   ],
   "source": [
    "set(Y)"
   ]
  },
  {
   "cell_type": "code",
   "execution_count": 15,
   "id": "898c930e",
   "metadata": {},
   "outputs": [
    {
     "data": {
      "text/plain": [
       "2096"
      ]
     },
     "execution_count": 15,
     "metadata": {},
     "output_type": "execute_result"
    }
   ],
   "source": [
    "np.sum(Y=='0')"
   ]
  },
  {
   "cell_type": "code",
   "execution_count": 16,
   "id": "ed2999ab",
   "metadata": {},
   "outputs": [
    {
     "data": {
      "text/plain": [
       "2019"
      ]
     },
     "execution_count": 16,
     "metadata": {},
     "output_type": "execute_result"
    }
   ],
   "source": [
    "np.sum(Y=='1')"
   ]
  },
  {
   "cell_type": "code",
   "execution_count": 17,
   "id": "0db4ec51",
   "metadata": {},
   "outputs": [
    {
     "data": {
      "text/plain": [
       "62"
      ]
     },
     "execution_count": 17,
     "metadata": {},
     "output_type": "execute_result"
    }
   ],
   "source": [
    "np.sum(Y=='2')"
   ]
  },
  {
   "cell_type": "markdown",
   "id": "7f881d4a",
   "metadata": {},
   "source": [
    "##### Y == '2'的体量太小了，估计分类成功可能性很小"
   ]
  },
  {
   "cell_type": "markdown",
   "id": "7de21c34",
   "metadata": {},
   "source": [
    "# 对数据集进行划分：这里划分20%为预测集、80%为训练集,随机数种子设置为1"
   ]
  },
  {
   "cell_type": "markdown",
   "id": "972138fb",
   "metadata": {},
   "source": [
    "## 1、对年龄rings进行训练并预测"
   ]
  },
  {
   "cell_type": "code",
   "execution_count": 18,
   "id": "22664b82",
   "metadata": {},
   "outputs": [],
   "source": [
    "X_train, X_test, Y_train, Y_test = train_test_split(x, Y, test_size = 0.2, random_state = 1)"
   ]
  },
  {
   "cell_type": "code",
   "execution_count": 19,
   "id": "d1bffb2c",
   "metadata": {
    "scrolled": false
   },
   "outputs": [
    {
     "data": {
      "text/plain": [
       "0.7679425837320574"
      ]
     },
     "execution_count": 19,
     "metadata": {},
     "output_type": "execute_result"
    }
   ],
   "source": [
    "test = knnClassify(39)\n",
    "test.fit(X_train, Y_train)\n",
    "Y_predict = test.predict(X_test)\n",
    "test.score(Y_test, Y_predict)"
   ]
  },
  {
   "cell_type": "markdown",
   "id": "7868a943",
   "metadata": {},
   "source": [
    "## 2、对性别Sex进行训练并预测"
   ]
  },
  {
   "cell_type": "code",
   "execution_count": 20,
   "id": "61437b84",
   "metadata": {},
   "outputs": [],
   "source": [
    "x_train, x_test, y_train, y_test = train_test_split(x, y, test_size = 0.2, random_state = 1)"
   ]
  },
  {
   "cell_type": "code",
   "execution_count": 21,
   "id": "6f363ef2",
   "metadata": {},
   "outputs": [
    {
     "data": {
      "text/plain": [
       "0.5550239234449761"
      ]
     },
     "execution_count": 21,
     "metadata": {},
     "output_type": "execute_result"
    }
   ],
   "source": [
    "test = knnClassify(155)\n",
    "test.fit(x_train, y_train)\n",
    "y_predict = test.predict(x_test)\n",
    "test.score(y_test, y_predict)"
   ]
  },
  {
   "cell_type": "markdown",
   "id": "ce2b5212",
   "metadata": {},
   "source": [
    "# 将预测结果可视化"
   ]
  },
  {
   "cell_type": "markdown",
   "id": "c96a7a09",
   "metadata": {},
   "source": [
    "## 1.对SEX预测结果可视化"
   ]
  },
  {
   "cell_type": "code",
   "execution_count": 22,
   "id": "806c8c42",
   "metadata": {},
   "outputs": [
    {
     "data": {
      "text/plain": [
       "<Figure size 720x720 with 0 Axes>"
      ]
     },
     "execution_count": 22,
     "metadata": {},
     "output_type": "execute_result"
    },
    {
     "data": {
      "text/plain": [
       "<Figure size 720x720 with 0 Axes>"
      ]
     },
     "metadata": {},
     "output_type": "display_data"
    }
   ],
   "source": [
    "# 设置画布大小\n",
    "plt.figure(figsize = (10, 10))"
   ]
  },
  {
   "cell_type": "code",
   "execution_count": 23,
   "id": "4fd13bf1",
   "metadata": {
    "scrolled": false
   },
   "outputs": [
    {
     "data": {
      "image/png": "[encoded data removed]",
      "text/plain": [
       "<Figure size 432x288 with 1 Axes>"
      ]
     },
     "metadata": {
      "needs_background": "light"
     },
     "output_type": "display_data"
    }
   ],
   "source": [
    "# 随机选取a和b作为坐标轴\n",
    "#对Sex三个属性上色\n",
    "plt.scatter(x = x_test[:,1], y = x_test[:,2], color = 'Green', label = 'ALL')\n",
    "plt.xlabel('Length')\n",
    "plt.ylabel('Diameter')\n",
    "plt.title(\"Original data on Abalone\")\n",
    "plt.legend()\n",
    "plt.show()"
   ]
  },
  {
   "cell_type": "markdown",
   "id": "4a1af224",
   "metadata": {},
   "source": [
    "#### 图中展示的是还未预测的所有数据点集"
   ]
  },
  {
   "cell_type": "code",
   "execution_count": 24,
   "id": "95ee9223",
   "metadata": {
    "scrolled": true
   },
   "outputs": [
    {
     "data": {
      "image/png": "[encoded data removed]",
      "text/plain": [
       "<Figure size 432x288 with 1 Axes>"
      ]
     },
     "metadata": {
      "needs_background": "light"
     },
     "output_type": "display_data"
    }
   ],
   "source": [
    "mPredict = []\n",
    "fPredict = []\n",
    "iPredict = []\n",
    "for i in range(0, len(x_test)):\n",
    "    if(y_predict[i] == 'M'):\n",
    "        mPredict.append(x_test[i])\n",
    "    if(y_predict[i] == 'F'):\n",
    "        fPredict.append(x_test[i])\n",
    "    if(y_predict[i] == 'I'):\n",
    "        iPredict.append(x_test[i])\n",
    "mPredict = np.array(mPredict)\n",
    "fPredict = np.array(fPredict)\n",
    "iPredict = np.array(iPredict)\n",
    "plt.scatter(x = mPredict[:,1], y = mPredict[:,2], color = 'blue', label = 'M')\n",
    "plt.scatter(x = fPredict[:,1], y = fPredict[:,2], color = 'red', label = 'F')\n",
    "plt.scatter(x = iPredict[:,1], y = iPredict[:,2], color = 'green', label = 'I')\n",
    "plt.xlabel('Length')\n",
    "plt.ylabel('Diameter')\n",
    "plt.title(\"KNN predict on Abalone_Sex\")\n",
    "plt.legend()\n",
    "plt.show()"
   ]
  },
  {
   "cell_type": "markdown",
   "id": "f5c4e959",
   "metadata": {},
   "source": [
    "#### 图中共有三个预测分类"
   ]
  },
  {
   "cell_type": "code",
   "execution_count": 25,
   "id": "ff56585f",
   "metadata": {},
   "outputs": [
    {
     "data": {
      "image/png": "[encoded data removed]",
      "text/plain": [
       "<Figure size 432x288 with 1 Axes>"
      ]
     },
     "metadata": {
      "needs_background": "light"
     },
     "output_type": "display_data"
    }
   ],
   "source": [
    "right = x_test[y_predict == y_test]\n",
    "wrong = x_test[y_predict != y_test]\n",
    "plt.scatter(x = wrong[:,1], y = wrong[:,2], color = 'blue', label = 'WRONG')\n",
    "plt.scatter(x = right[:,1], y = right[:,2], color = 'red', label = 'RIGHT')\n",
    "plt.xlabel('Length')\n",
    "plt.ylabel('Diameter')\n",
    "plt.title(\"Prediction accuracy of KNN predict on Abalone_Sex\")\n",
    "plt.legend()\n",
    "plt.show()"
   ]
  },
  {
   "cell_type": "markdown",
   "id": "1408e290",
   "metadata": {},
   "source": [
    "#### 图中红色表示预测成功"
   ]
  },
  {
   "cell_type": "markdown",
   "id": "7f970a9e",
   "metadata": {},
   "source": [
    "## 2.对Rings进行预测"
   ]
  },
  {
   "cell_type": "code",
   "execution_count": 26,
   "id": "db1ea059",
   "metadata": {},
   "outputs": [
    {
     "data": {
      "text/plain": [
       "<Figure size 7200x7200 with 0 Axes>"
      ]
     },
     "execution_count": 26,
     "metadata": {},
     "output_type": "execute_result"
    },
    {
     "data": {
      "text/plain": [
       "<Figure size 7200x7200 with 0 Axes>"
      ]
     },
     "metadata": {},
     "output_type": "display_data"
    }
   ],
   "source": [
    "# 设置画布大小\n",
    "plt.figure(figsize = (100, 100))"
   ]
  },
  {
   "cell_type": "code",
   "execution_count": 27,
   "id": "a8882d42",
   "metadata": {},
   "outputs": [
    {
     "data": {
      "image/png": "[encoded data removed]",
      "text/plain": [
       "<Figure size 432x288 with 1 Axes>"
      ]
     },
     "metadata": {
      "needs_background": "light"
     },
     "output_type": "display_data"
    }
   ],
   "source": [
    "# 随机选取a和b作为坐标轴\n",
    "#对Sex三个属性上色\n",
    "plt.scatter(x = x_test[:,1], y = x_test[:,2], color = 'Green', label = 'ALL')\n",
    "plt.xlabel('Length')\n",
    "plt.ylabel('Diameter')\n",
    "plt.title(\"Original data on Abalone\")\n",
    "plt.legend()\n",
    "plt.show()"
   ]
  },
  {
   "cell_type": "markdown",
   "id": "ae6282cc",
   "metadata": {},
   "source": [
    "#### 图中展示的是还未预测的所有数据点集"
   ]
  },
  {
   "cell_type": "code",
   "execution_count": 28,
   "id": "7c2f42d5",
   "metadata": {
    "scrolled": false
   },
   "outputs": [],
   "source": [
    "aPredict = []\n",
    "bPredict = []\n",
    "cPredict = []\n",
    "for i in range(0, len(x_test)):\n",
    "    if(Y_predict[i] == '0'):\n",
    "        aPredict.append(X_test[i])\n",
    "    if(Y_predict[i] == '1'):\n",
    "        bPredict.append(X_test[i])\n",
    "    if(Y_predict[i] == '2'):\n",
    "        cPredict.append(X_test[i])\n",
    "aPredict = np.array(aPredict)\n",
    "bPredict = np.array(bPredict)\n",
    "cPredict = np.array(cPredict)"
   ]
  },
  {
   "cell_type": "code",
   "execution_count": 29,
   "id": "f3daff90",
   "metadata": {},
   "outputs": [
    {
     "data": {
      "text/plain": [
       "array([[0.44, 0.34, 0.1, ..., 0.188, 0.087, 0.13],\n",
       "       [0.565, 0.435, 0.15, ..., 0.5795, 0.1825, 0.206],\n",
       "       [0.37, 0.28, 0.105, ..., 0.0905, 0.0585, 0.075],\n",
       "       ...,\n",
       "       [0.435, 0.325, 0.105, ..., 0.136, 0.065, 0.115],\n",
       "       [0.315, 0.235, 0.07, ..., 0.058, 0.0325, 0.047],\n",
       "       [0.545, 0.42, 0.165, ..., 0.4235, 0.2195, 0.228]], dtype=object)"
      ]
     },
     "execution_count": 29,
     "metadata": {},
     "output_type": "execute_result"
    }
   ],
   "source": [
    "aPredict "
   ]
  },
  {
   "cell_type": "code",
   "execution_count": 30,
   "id": "5c9b2d74",
   "metadata": {},
   "outputs": [
    {
     "data": {
      "text/plain": [
       "array([[0.525, 0.39, 0.135, ..., 0.2265, 0.131, 0.21],\n",
       "       [0.62, 0.485, 0.155, ..., 0.5105, 0.271, 0.352],\n",
       "       [0.485, 0.375, 0.135, ..., 0.1925, 0.1315, 0.1685],\n",
       "       ...,\n",
       "       [0.555, 0.445, 0.175, ..., 0.551, 0.244, 0.2785],\n",
       "       [0.665, 0.53, 0.18, ..., 0.6345, 0.342, 0.435],\n",
       "       [0.6, 0.5, 0.155, ..., 0.6235, 0.2835, 0.35]], dtype=object)"
      ]
     },
     "execution_count": 30,
     "metadata": {},
     "output_type": "execute_result"
    }
   ],
   "source": [
    "bPredict"
   ]
  },
  {
   "cell_type": "code",
   "execution_count": 31,
   "id": "4e89f9ff",
   "metadata": {},
   "outputs": [
    {
     "data": {
      "text/plain": [
       "array([], dtype=float64)"
      ]
     },
     "execution_count": 31,
     "metadata": {},
     "output_type": "execute_result"
    }
   ],
   "source": [
    "cPredict"
   ]
  },
  {
   "cell_type": "markdown",
   "id": "f3c9a4e6",
   "metadata": {},
   "source": [
    "##### ？？？0预测成功？"
   ]
  },
  {
   "cell_type": "code",
   "execution_count": 32,
   "id": "0bd884fa",
   "metadata": {},
   "outputs": [
    {
     "data": {
      "image/png": "[encoded data removed]",
      "text/plain": [
       "<Figure size 432x288 with 1 Axes>"
      ]
     },
     "metadata": {
      "needs_background": "light"
     },
     "output_type": "display_data"
    }
   ],
   "source": [
    "plt.scatter(x = aPredict[:,1], y = aPredict[:,2], color = 'blue', label = 'a')\n",
    "plt.scatter(x = bPredict[:,1], y = bPredict[:,2], color = 'red', label = 'b')\n",
    "#plt.scatter(x = cPredict[:,1], y = cPredict[:,2], color = 'green', label = 'c')\n",
    "plt.xlabel('Length')\n",
    "plt.ylabel('Diameter')\n",
    "plt.title(\"KNN predict on Abalone_Rings\")\n",
    "plt.legend()\n",
    "plt.show()"
   ]
  },
  {
   "cell_type": "code",
   "execution_count": 33,
   "id": "cc59fa4b",
   "metadata": {},
   "outputs": [
    {
     "data": {
      "image/png": "[encoded data removed]",
      "text/plain": [
       "<Figure size 432x288 with 1 Axes>"
      ]
     },
     "metadata": {
      "needs_background": "light"
     },
     "output_type": "display_data"
    }
   ],
   "source": [
    "right1 = x_test[Y_predict == Y_test]\n",
    "wrong1 = x_test[Y_predict != Y_test]\n",
    "plt.scatter(x = wrong1[:,1], y = wrong1[:,2], color = 'blue', label = 'WRONG')\n",
    "plt.scatter(x = right1[:,1], y = right1[:,2], color = 'red', label = 'RIGHT')\n",
    "plt.xlabel('Length')\n",
    "plt.ylabel('Diameter')\n",
    "plt.title(\"Prediction accuracy of KNN predict on Abalone_Sex\")\n",
    "plt.legend()\n",
    "plt.show()"
   ]
  },
  {
   "cell_type": "code",
   "execution_count": null,
   "id": "248f20b7",
   "metadata": {},
   "outputs": [],
   "source": []
  }
 ],
 "metadata": {
  "kernelspec": {
   "display_name": "Python 3 (ipykernel)",
   "language": "python",
   "name": "python3"
  },
  "language_info": {
   "codemirror_mode": {
    "name": "ipython",
    "version": 3
   },
   "file_extension": ".py",
   "mimetype": "text/x-python",
   "name": "python",
   "nbconvert_exporter": "python",
   "pygments_lexer": "ipython3",
   "version": "3.9.7"
  }
 },
 "nbformat": 4,
 "nbformat_minor": 5
}
